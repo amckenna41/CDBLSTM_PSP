{
 "cells": [
  {
   "cell_type": "code",
   "execution_count": 1,
   "metadata": {},
   "outputs": [],
   "source": [
    "import gzip\n",
    "import shutil\n",
    "import numpy as np\n",
    "import gzip\n",
    "import os\n",
    "import h5py\n",
    "\n",
    "def load_cb513_dataset():\n",
    "    \n",
    "    #Get dataset from url:\n",
    "    #import urllib.request\n",
    "    #with urllib.request.urlopen('http://www.princeton.edu/~jzthree/datasets/ICML2014/cb513+profile_split1.npy.gz') as f:\n",
    "    #html = f.read().decode('utf-8')\n",
    "    \n",
    "    filename = 'cb513+profile_split1_2.npy.gz'\n",
    "    new_filename = 'cb513+profile_split1_2.npy'\n",
    "\n",
    "    #get path of dataset in cwd\n",
    "    dir_path = os.path.dirname(os.path.realpath(filename))    \n",
    "    source_path = dir_path + '/' + filename    \n",
    "    destination_path = dir_path + '/' + new_filename\n",
    "    \n",
    "    #open zipped file and copy contents to new .npy file\n",
    "    with gzip.open(filename, 'rb') as f_in:\n",
    "        with open(new_filename, 'wb') as f_out:\n",
    "            shutil.copyfile(source_path, destination_path)\n",
    "            \n",
    "    #X_test_in = np.load(gzip.open('./cb513+profile_split1.npy.gz', 'rb'))\n",
    "    #X_test = np.reshape(X_test_in,(514,700,57))\n",
    "\n",
    "    #load .npy dataset and reshape \n",
    "    cb513_data = np.load(new_filename)\n",
    "    cb513_data = np.reshape(cb513_data, (-1,700,57))\n",
    "    #print(cb513_data.shape)\n",
    "\n",
    "    #protein sequence feature\n",
    "    test_hot = cb513_data[:,:,0:21]\n",
    "    #protein profile feature\n",
    "    test_pssm = cb513_data[:,:,35:56]\n",
    "    #protein labels\n",
    "    test_labels = cb513_data[:,:,22:30]\n",
    "    \n",
    "    #print(np.argmin(test_hot))\n",
    "    #print(np.argmax(test_hot))\n",
    "    \n",
    "    #create new protein sequence feature, set values to max value if if value!=0 ? \n",
    "    test_hot_ = np.ones((test_hot.shape[0], test_hot.shape[1]))\n",
    "    for x in range(test_hot.shape[0]):\n",
    "          for y in range(test_hot.shape[1]):\n",
    "                if np.sum(test_hot[x,y,:]) != 0:\n",
    "                    test_hot_[x,y] = np.argmax(test_hot[x,y,:]) \n",
    "                    \n",
    "    return test_hot_, test_pssm, test_labels"
   ]
  },
  {
   "cell_type": "code",
   "execution_count": 2,
   "metadata": {},
   "outputs": [
    {
     "ename": "FileNotFoundError",
     "evalue": "[Errno 2] No such file or directory: 'cb513+profile_split1_2.npy.gz'",
     "output_type": "error",
     "traceback": [
      "\u001b[0;31m---------------------------------------------------------------------------\u001b[0m",
      "\u001b[0;31mFileNotFoundError\u001b[0m                         Traceback (most recent call last)",
      "\u001b[0;32m<ipython-input-2-c88a06040c5d>\u001b[0m in \u001b[0;36m<module>\u001b[0;34m\u001b[0m\n\u001b[0;32m----> 1\u001b[0;31m \u001b[0mtest_hot\u001b[0m\u001b[0;34m,\u001b[0m \u001b[0mtest_pssm\u001b[0m\u001b[0;34m,\u001b[0m \u001b[0mtest_labels\u001b[0m \u001b[0;34m=\u001b[0m \u001b[0mload_cb513_dataset\u001b[0m\u001b[0;34m(\u001b[0m\u001b[0;34m)\u001b[0m\u001b[0;34m\u001b[0m\u001b[0;34m\u001b[0m\u001b[0m\n\u001b[0m",
      "\u001b[0;32m<ipython-input-1-00251c9d9c36>\u001b[0m in \u001b[0;36mload_cb513_dataset\u001b[0;34m()\u001b[0m\n\u001b[1;32m     22\u001b[0m \u001b[0;34m\u001b[0m\u001b[0m\n\u001b[1;32m     23\u001b[0m     \u001b[0;31m#open zipped file and copy contents to new .npy file\u001b[0m\u001b[0;34m\u001b[0m\u001b[0;34m\u001b[0m\u001b[0;34m\u001b[0m\u001b[0m\n\u001b[0;32m---> 24\u001b[0;31m     \u001b[0;32mwith\u001b[0m \u001b[0mgzip\u001b[0m\u001b[0;34m.\u001b[0m\u001b[0mopen\u001b[0m\u001b[0;34m(\u001b[0m\u001b[0mfilename\u001b[0m\u001b[0;34m,\u001b[0m \u001b[0;34m'rb'\u001b[0m\u001b[0;34m)\u001b[0m \u001b[0;32mas\u001b[0m \u001b[0mf_in\u001b[0m\u001b[0;34m:\u001b[0m\u001b[0;34m\u001b[0m\u001b[0;34m\u001b[0m\u001b[0m\n\u001b[0m\u001b[1;32m     25\u001b[0m         \u001b[0;32mwith\u001b[0m \u001b[0mopen\u001b[0m\u001b[0;34m(\u001b[0m\u001b[0mnew_filename\u001b[0m\u001b[0;34m,\u001b[0m \u001b[0;34m'wb'\u001b[0m\u001b[0;34m)\u001b[0m \u001b[0;32mas\u001b[0m \u001b[0mf_out\u001b[0m\u001b[0;34m:\u001b[0m\u001b[0;34m\u001b[0m\u001b[0;34m\u001b[0m\u001b[0m\n\u001b[1;32m     26\u001b[0m             \u001b[0mshutil\u001b[0m\u001b[0;34m.\u001b[0m\u001b[0mcopyfile\u001b[0m\u001b[0;34m(\u001b[0m\u001b[0msource_path\u001b[0m\u001b[0;34m,\u001b[0m \u001b[0mdestination_path\u001b[0m\u001b[0;34m)\u001b[0m\u001b[0;34m\u001b[0m\u001b[0;34m\u001b[0m\u001b[0m\n",
      "\u001b[0;32m~/anaconda3/lib/python3.7/gzip.py\u001b[0m in \u001b[0;36mopen\u001b[0;34m(filename, mode, compresslevel, encoding, errors, newline)\u001b[0m\n\u001b[1;32m     51\u001b[0m     \u001b[0mgz_mode\u001b[0m \u001b[0;34m=\u001b[0m \u001b[0mmode\u001b[0m\u001b[0;34m.\u001b[0m\u001b[0mreplace\u001b[0m\u001b[0;34m(\u001b[0m\u001b[0;34m\"t\"\u001b[0m\u001b[0;34m,\u001b[0m \u001b[0;34m\"\"\u001b[0m\u001b[0;34m)\u001b[0m\u001b[0;34m\u001b[0m\u001b[0;34m\u001b[0m\u001b[0m\n\u001b[1;32m     52\u001b[0m     \u001b[0;32mif\u001b[0m \u001b[0misinstance\u001b[0m\u001b[0;34m(\u001b[0m\u001b[0mfilename\u001b[0m\u001b[0;34m,\u001b[0m \u001b[0;34m(\u001b[0m\u001b[0mstr\u001b[0m\u001b[0;34m,\u001b[0m \u001b[0mbytes\u001b[0m\u001b[0;34m,\u001b[0m \u001b[0mos\u001b[0m\u001b[0;34m.\u001b[0m\u001b[0mPathLike\u001b[0m\u001b[0;34m)\u001b[0m\u001b[0;34m)\u001b[0m\u001b[0;34m:\u001b[0m\u001b[0;34m\u001b[0m\u001b[0;34m\u001b[0m\u001b[0m\n\u001b[0;32m---> 53\u001b[0;31m         \u001b[0mbinary_file\u001b[0m \u001b[0;34m=\u001b[0m \u001b[0mGzipFile\u001b[0m\u001b[0;34m(\u001b[0m\u001b[0mfilename\u001b[0m\u001b[0;34m,\u001b[0m \u001b[0mgz_mode\u001b[0m\u001b[0;34m,\u001b[0m \u001b[0mcompresslevel\u001b[0m\u001b[0;34m)\u001b[0m\u001b[0;34m\u001b[0m\u001b[0;34m\u001b[0m\u001b[0m\n\u001b[0m\u001b[1;32m     54\u001b[0m     \u001b[0;32melif\u001b[0m \u001b[0mhasattr\u001b[0m\u001b[0;34m(\u001b[0m\u001b[0mfilename\u001b[0m\u001b[0;34m,\u001b[0m \u001b[0;34m\"read\"\u001b[0m\u001b[0;34m)\u001b[0m \u001b[0;32mor\u001b[0m \u001b[0mhasattr\u001b[0m\u001b[0;34m(\u001b[0m\u001b[0mfilename\u001b[0m\u001b[0;34m,\u001b[0m \u001b[0;34m\"write\"\u001b[0m\u001b[0;34m)\u001b[0m\u001b[0;34m:\u001b[0m\u001b[0;34m\u001b[0m\u001b[0;34m\u001b[0m\u001b[0m\n\u001b[1;32m     55\u001b[0m         \u001b[0mbinary_file\u001b[0m \u001b[0;34m=\u001b[0m \u001b[0mGzipFile\u001b[0m\u001b[0;34m(\u001b[0m\u001b[0;32mNone\u001b[0m\u001b[0;34m,\u001b[0m \u001b[0mgz_mode\u001b[0m\u001b[0;34m,\u001b[0m \u001b[0mcompresslevel\u001b[0m\u001b[0;34m,\u001b[0m \u001b[0mfilename\u001b[0m\u001b[0;34m)\u001b[0m\u001b[0;34m\u001b[0m\u001b[0;34m\u001b[0m\u001b[0m\n",
      "\u001b[0;32m~/anaconda3/lib/python3.7/gzip.py\u001b[0m in \u001b[0;36m__init__\u001b[0;34m(self, filename, mode, compresslevel, fileobj, mtime)\u001b[0m\n\u001b[1;32m    161\u001b[0m             \u001b[0mmode\u001b[0m \u001b[0;34m+=\u001b[0m \u001b[0;34m'b'\u001b[0m\u001b[0;34m\u001b[0m\u001b[0;34m\u001b[0m\u001b[0m\n\u001b[1;32m    162\u001b[0m         \u001b[0;32mif\u001b[0m \u001b[0mfileobj\u001b[0m \u001b[0;32mis\u001b[0m \u001b[0;32mNone\u001b[0m\u001b[0;34m:\u001b[0m\u001b[0;34m\u001b[0m\u001b[0;34m\u001b[0m\u001b[0m\n\u001b[0;32m--> 163\u001b[0;31m             \u001b[0mfileobj\u001b[0m \u001b[0;34m=\u001b[0m \u001b[0mself\u001b[0m\u001b[0;34m.\u001b[0m\u001b[0mmyfileobj\u001b[0m \u001b[0;34m=\u001b[0m \u001b[0mbuiltins\u001b[0m\u001b[0;34m.\u001b[0m\u001b[0mopen\u001b[0m\u001b[0;34m(\u001b[0m\u001b[0mfilename\u001b[0m\u001b[0;34m,\u001b[0m \u001b[0mmode\u001b[0m \u001b[0;32mor\u001b[0m \u001b[0;34m'rb'\u001b[0m\u001b[0;34m)\u001b[0m\u001b[0;34m\u001b[0m\u001b[0;34m\u001b[0m\u001b[0m\n\u001b[0m\u001b[1;32m    164\u001b[0m         \u001b[0;32mif\u001b[0m \u001b[0mfilename\u001b[0m \u001b[0;32mis\u001b[0m \u001b[0;32mNone\u001b[0m\u001b[0;34m:\u001b[0m\u001b[0;34m\u001b[0m\u001b[0;34m\u001b[0m\u001b[0m\n\u001b[1;32m    165\u001b[0m             \u001b[0mfilename\u001b[0m \u001b[0;34m=\u001b[0m \u001b[0mgetattr\u001b[0m\u001b[0;34m(\u001b[0m\u001b[0mfileobj\u001b[0m\u001b[0;34m,\u001b[0m \u001b[0;34m'name'\u001b[0m\u001b[0;34m,\u001b[0m \u001b[0;34m''\u001b[0m\u001b[0;34m)\u001b[0m\u001b[0;34m\u001b[0m\u001b[0;34m\u001b[0m\u001b[0m\n",
      "\u001b[0;31mFileNotFoundError\u001b[0m: [Errno 2] No such file or directory: 'cb513+profile_split1_2.npy.gz'"
     ]
    }
   ],
   "source": [
    "test_hot, test_pssm, test_labels = load_cb513_dataset()"
   ]
  },
  {
   "cell_type": "code",
   "execution_count": null,
   "metadata": {},
   "outputs": [],
   "source": [
    "test_hot.shape"
   ]
  },
  {
   "cell_type": "code",
   "execution_count": null,
   "metadata": {},
   "outputs": [],
   "source": [
    "test_pssm.shape"
   ]
  },
  {
   "cell_type": "code",
   "execution_count": null,
   "metadata": {},
   "outputs": [],
   "source": [
    "test_labels.shape"
   ]
  },
  {
   "cell_type": "code",
   "execution_count": null,
   "metadata": {},
   "outputs": [],
   "source": [
    "def load_cullpdb_6133_dataset():\n",
    "    \n",
    "    filename = 'cullpdb+profile_6133_filtered.npy.gz'\n",
    "    new_filename = 'cullpdb+profile_6133_filtered.npy'\n",
    "\n",
    "    #get path of dataset in cwd\n",
    "    dir_path = os.path.dirname(os.path.realpath(filename))    \n",
    "    source_path = dir_path + '/' + filename    \n",
    "    destination_path = dir_path + '/' + new_filename\n",
    "    \n",
    "    #open zipped file and copy contents to new .npy file\n",
    "    with gzip.open(filename, 'rb') as f_in:\n",
    "        with open(new_filename, 'wb') as f_out:\n",
    "            shutil.copyfile(source_path, destination_path)\n",
    "    \n",
    "    #load .npy dataset and reshape \n",
    "    cullpdb_data = np.load(new_filename)\n",
    "    cullpdb_data = np.reshape(cullpdb_data, (-1, 700, 57))\n",
    "    \n",
    "    #onehot=cull[:, :, 0:21]#sequence feature\n",
    "    #pssm=cull[:, :, 35:56]#profile feature\n",
    "    \n",
    "    train_labels = cullpdb_data[:, :, 22:30]    # secondary struture label , 8-D/8-classes\n",
    "    #number of protein sequences\n",
    "    num_seqs = cullpdb_data.shape[0]\n",
    "    #protein sequence length\n",
    "    seq_len = cullpdb_data.shape[1]\n",
    "    #number of protein classes \n",
    "    num_classes = train_labels.shape[2]\n",
    "    num_seqs1 = np.size\n",
    "    vals = np.arange(0,8)\n",
    "    \n",
    "    #print(num_seqs)\n",
    "    #print(seq_len)\n",
    "    #print(num_classes)\n",
    "    #print(num_seqs1)\n",
    "    #print('\\n')\n",
    "      \n",
    "    #convert dataset to float datatype\n",
    "    cullpdb_data = cullpdb_data.astype('float32')\n",
    "    labels_new = np.zeros((num_seqs, seq_len))\n",
    "    \n",
    "    #create new labels matrix of the dot product of training_labels and values np array\n",
    "    for i in range(train_labels.shape[0]):\n",
    "        labels_new[i,:] = np.dot(train_labels[i,:,:],vals)\n",
    "    \n",
    "    #convert labels matrix to int datatype\n",
    "    labels_new = labels_new.astype('int32')\n",
    "    train_labels = labels_new\n",
    "    seq_names = np.arange(0,num_seqs)\n",
    "    \n",
    "    #shuffle protein sequence names\n",
    "    np.random.shuffle(seq_names)\n",
    "    #get training and valid data\n",
    "    cullpdb_data_train = cullpdb_data[seq_names[0:5278]]\n",
    "    cullpdb_data_valid = cullpdb_data[seq_names[5278:5534]]\n",
    "\n",
    "    #get labels of training and valid data\n",
    "    labels_train = train_labels[seq_names[0:5278]]\n",
    "    labels_valid = train_labels[seq_names[5278:5534]]\n",
    "    #mask_train = mask[seq_names[0:5278]]\n",
    "    #mask_valid = mask[seq_names[5278:5534]]\n",
    "    num_seq_train = cullpdb_data_train.shape[0]\n",
    "    num_seq_valid = cullpdb_data_valid.shape[0]\n",
    "\n",
    "    return cullpdb_data_train, cullpdb_data_valid, labels_train, labels_valid, num_seq_train"
   ]
  },
  {
   "cell_type": "code",
   "execution_count": null,
   "metadata": {},
   "outputs": [],
   "source": [
    "X_train, X_valid, train_labels, valid_labels, num_seq_train = load_cullpdb_6133_dataset()"
   ]
  },
  {
   "cell_type": "code",
   "execution_count": null,
   "metadata": {},
   "outputs": [],
   "source": [
    "X_train.shape"
   ]
  },
  {
   "cell_type": "code",
   "execution_count": null,
   "metadata": {},
   "outputs": [],
   "source": [
    "X_valid.shape"
   ]
  },
  {
   "cell_type": "code",
   "execution_count": null,
   "metadata": {},
   "outputs": [],
   "source": [
    "train_labels.shape"
   ]
  },
  {
   "cell_type": "code",
   "execution_count": null,
   "metadata": {},
   "outputs": [],
   "source": [
    "valid_labels.shape"
   ]
  },
  {
   "cell_type": "code",
   "execution_count": null,
   "metadata": {},
   "outputs": [],
   "source": [
    "def load_casp10_data():\n",
    "    \n",
    "    #load casp10 dataset\n",
    "    casp10_data = h5py.File(\"casp10.h5\")\n",
    "    \n",
    "    #load protein sequence and profile feature data\n",
    "    casp10_data_hot = casp10_data['features'][:, :, 0:21]\n",
    "    casp10_data_pssm = casp10_data['features'][:, :, 21:42]\n",
    "    #load protein label data\n",
    "    test_labels = casp10_data['labels'][:, :, 0:8]  \n",
    "    \n",
    "    #create new protein sequence feature, set values to max value if if value!=0 ? \n",
    "    casp10_data_test_hot = np.ones((casp10_data_hot.shape[0], casp10_data_hot.shape[1]))\n",
    "    for x in range(casp10_data_hot.shape[0]):\n",
    "        for y in range(casp10_data_hot.shape[1]):\n",
    "               if np.sum(casp10_data_hot[x,y,:]) != 0:\n",
    "                    casp10_data_test_hot[x,y] = np.argmax(casp10_data_hot[x,y,:])\n",
    "\n",
    "    return casp10_data_test_hot, casp10_data_pssm, test_labels"
   ]
  },
  {
   "cell_type": "code",
   "execution_count": null,
   "metadata": {},
   "outputs": [],
   "source": [
    "casp10_data_test_hot, casp10_data_pssm, test_labels = load_casp10_data()"
   ]
  },
  {
   "cell_type": "code",
   "execution_count": null,
   "metadata": {},
   "outputs": [],
   "source": [
    "casp10_data_test_hot.shape"
   ]
  },
  {
   "cell_type": "code",
   "execution_count": null,
   "metadata": {},
   "outputs": [],
   "source": [
    "casp10_data_pssm.shape"
   ]
  },
  {
   "cell_type": "code",
   "execution_count": null,
   "metadata": {},
   "outputs": [],
   "source": [
    "test_labels.shape"
   ]
  },
  {
   "cell_type": "code",
   "execution_count": null,
   "metadata": {},
   "outputs": [],
   "source": [
    "def load_casp11_data():\n",
    "    \n",
    "    #load casp11 dataset\n",
    "    casp11_data = h5py.File(\"casp11.h5\")\n",
    "    \n",
    "    #load protein sequence and profile feature data\n",
    "    casp11_data_hot = casp11_data['features'][:,:,0:21]\n",
    "    casp11_data_pssm = casp11_data['features'][:,:,21:42]\n",
    "    #load protein label data\n",
    "    test_labels = casp11_data['labels'][:,:,0:8]\n",
    "    \n",
    "    #create new protein sequence feature, set values to max value if if value!=0 ? \n",
    "    casp11_data_test_hot = np.ones((casp11_data_hot.shape[0], casp11_data_hot.shape[1]))\n",
    "    for x in range(casp11_data_hot.shape[0]):\n",
    "        for y in range(casp11_data_hot.shape[1]):\n",
    "            if np.sum(casp11_data_hot[x,y,:]) != 0:\n",
    "                casp11_data_test_hot[x,y] = np.argmax(casp11_data_hot[x,y,:])\n",
    "                \n",
    "    return casp11_data_test_hot, casp11_data_test_hot, test_labels"
   ]
  },
  {
   "cell_type": "code",
   "execution_count": null,
   "metadata": {},
   "outputs": [],
   "source": [
    "casp11_data_test_hot, casp11_data_test_hot, test_labels = load_casp11_data()"
   ]
  },
  {
   "cell_type": "code",
   "execution_count": null,
   "metadata": {},
   "outputs": [],
   "source": [
    "casp11_data_test_hot.shape"
   ]
  },
  {
   "cell_type": "code",
   "execution_count": null,
   "metadata": {},
   "outputs": [],
   "source": [
    "casp11_data_test_hot.shape"
   ]
  },
  {
   "cell_type": "code",
   "execution_count": null,
   "metadata": {},
   "outputs": [],
   "source": [
    "test_labels.shape"
   ]
  },
  {
   "cell_type": "code",
   "execution_count": null,
   "metadata": {},
   "outputs": [],
   "source": []
  }
 ],
 "metadata": {
  "kernelspec": {
   "display_name": "Python 3",
   "language": "python",
   "name": "python3"
  },
  "language_info": {
   "codemirror_mode": {
    "name": "ipython",
    "version": 3
   },
   "file_extension": ".py",
   "mimetype": "text/x-python",
   "name": "python",
   "nbconvert_exporter": "python",
   "pygments_lexer": "ipython3",
   "version": "3.7.3"
  }
 },
 "nbformat": 4,
 "nbformat_minor": 2
}
