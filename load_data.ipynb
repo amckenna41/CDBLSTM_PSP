{
 "cells": [
  {
   "cell_type": "code",
   "execution_count": 56,
   "metadata": {},
   "outputs": [],
   "source": [
    "import gzip\n",
    "import shutil\n",
    "import numpy as np\n",
    "import gzip\n",
    "import os\n",
    "import h5py\n",
    "\n",
    "def load_cb513_dataset():\n",
    "    \n",
    "    #Get dataset from url:\n",
    "    #import urllib.request\n",
    "    #with urllib.request.urlopen('http://www.princeton.edu/~jzthree/datasets/ICML2014/cb513+profile_split1.npy.gz') as f:\n",
    "    #html = f.read().decode('utf-8')\n",
    "    \n",
    "    filename = 'cb513+profile_split1_2.npy.gz'\n",
    "    new_filename = 'cb513+profile_split1_2.npy'\n",
    "\n",
    "    #get path of dataset in cwd\n",
    "    dir_path = os.path.dirname(os.path.realpath(filename))    \n",
    "    source_path = dir_path + '/' + filename    \n",
    "    destination_path = dir_path + '/' + new_filename\n",
    "    \n",
    "    #open zipped file and copy contents to new .npy file\n",
    "    with gzip.open(filename, 'rb') as f_in:\n",
    "        with open(new_filename, 'wb') as f_out:\n",
    "            shutil.copyfile(source_path, destination_path)\n",
    "            \n",
    "    #X_test_in = np.load(gzip.open('./cb513+profile_split1.npy.gz', 'rb'))\n",
    "    #X_test = np.reshape(X_test_in,(514,700,57))\n",
    "\n",
    "    #load .npy dataset and reshape \n",
    "    cb513_data = np.load(new_filename)\n",
    "    cb513_data = np.reshape(cb513_data, (-1,700,57))\n",
    "    #print(cb513_data.shape)\n",
    "\n",
    "    #protein sequence feature\n",
    "    test_hot = cb513_data[:,:,0:21]\n",
    "    #protein profile feature\n",
    "    test_pssm = cb513_data[:,:,35:56]\n",
    "    #protein labels\n",
    "    test_labels = cb513_data[:,:,22:30]\n",
    "    \n",
    "    #print(np.argmin(test_hot))\n",
    "    #print(np.argmax(test_hot))\n",
    "    \n",
    "    #create new protein sequence feature, set values to max value if if value!=0 ? \n",
    "    test_hot_ = np.ones((test_hot.shape[0], test_hot.shape[1]))\n",
    "    for x in range(test_hot.shape[0]):\n",
    "          for y in range(test_hot.shape[1]):\n",
    "                if np.sum(test_hot[x,y,:]) != 0:\n",
    "                    test_hot_[x,y] = np.argmax(test_hot[x,y,:]) \n",
    "                    \n",
    "    return test_hot_, test_pssm, test_labels"
   ]
  },
  {
   "cell_type": "code",
   "execution_count": 50,
   "metadata": {},
   "outputs": [],
   "source": [
    "test_hot, test_pssm, test_labels = load_cb513_dataset()"
   ]
  },
  {
   "cell_type": "code",
   "execution_count": 51,
   "metadata": {},
   "outputs": [
    {
     "data": {
      "text/plain": [
       "(514, 700)"
      ]
     },
     "execution_count": 51,
     "metadata": {},
     "output_type": "execute_result"
    }
   ],
   "source": [
    "test_hot.shape"
   ]
  },
  {
   "cell_type": "code",
   "execution_count": 52,
   "metadata": {},
   "outputs": [
    {
     "data": {
      "text/plain": [
       "(514, 700, 21)"
      ]
     },
     "execution_count": 52,
     "metadata": {},
     "output_type": "execute_result"
    }
   ],
   "source": [
    "test_pssm.shape"
   ]
  },
  {
   "cell_type": "code",
   "execution_count": 53,
   "metadata": {},
   "outputs": [
    {
     "data": {
      "text/plain": [
       "(514, 700, 8)"
      ]
     },
     "execution_count": 53,
     "metadata": {},
     "output_type": "execute_result"
    }
   ],
   "source": [
    "test_labels.shape"
   ]
  },
  {
   "cell_type": "code",
   "execution_count": 33,
   "metadata": {},
   "outputs": [],
   "source": [
    "def load_cullpdb_6133_dataset():\n",
    "    \n",
    "    filename = 'cullpdb+profile_6133_filtered.npy.gz'\n",
    "    new_filename = 'cullpdb+profile_6133_filtered.npy'\n",
    "\n",
    "    #get path of dataset in cwd\n",
    "    dir_path = os.path.dirname(os.path.realpath(filename))    \n",
    "    source_path = dir_path + '/' + filename    \n",
    "    destination_path = dir_path + '/' + new_filename\n",
    "    \n",
    "    #open zipped file and copy contents to new .npy file\n",
    "    with gzip.open(filename, 'rb') as f_in:\n",
    "        with open(new_filename, 'wb') as f_out:\n",
    "            shutil.copyfile(source_path, destination_path)\n",
    "    \n",
    "    #load .npy dataset and reshape \n",
    "    cullpdb_data = np.load(new_filename)\n",
    "    cullpdb_data = np.reshape(cullpdb_data, (-1, 700, 57))\n",
    "    \n",
    "    #onehot=cull[:, :, 0:21]#sequence feature\n",
    "    #pssm=cull[:, :, 35:56]#profile feature\n",
    "    \n",
    "    train_labels = cullpdb_data[:, :, 22:30]    # secondary struture label , 8-D/8-classes\n",
    "    #number of protein sequences\n",
    "    num_seqs = cullpdb_data.shape[0]\n",
    "    #protein sequence length\n",
    "    seq_len = cullpdb_data.shape[1]\n",
    "    #number of protein classes \n",
    "    num_classes = train_labels.shape[2]\n",
    "    num_seqs1 = np.size\n",
    "    vals = np.arange(0,8)\n",
    "    \n",
    "    #print(num_seqs)\n",
    "    #print(seq_len)\n",
    "    #print(num_classes)\n",
    "    #print(num_seqs1)\n",
    "    #print('\\n')\n",
    "      \n",
    "    #convert dataset to float datatype\n",
    "    cullpdb_data = cullpdb_data.astype('float32')\n",
    "    labels_new = np.zeros((num_seqs, seq_len))\n",
    "    \n",
    "    #create new labels matrix of the dot product of training_labels and values np array\n",
    "    for i in range(train_labels.shape[0]):\n",
    "        labels_new[i,:] = np.dot(train_labels[i,:,:],vals)\n",
    "    \n",
    "    #convert labels matrix to int datatype\n",
    "    labels_new = labels_new.astype('int32')\n",
    "    train_labels = labels_new\n",
    "    seq_names = np.arange(0,num_seqs)\n",
    "    \n",
    "    #shuffle protein sequence names\n",
    "    np.random.shuffle(seq_names)\n",
    "    #get training and valid data\n",
    "    cullpdb_data_train = cullpdb_data[seq_names[0:5278]]\n",
    "    cullpdb_data_valid = cullpdb_data[seq_names[5278:5534]]\n",
    "\n",
    "    #get labels of training and valid data\n",
    "    labels_train = train_labels[seq_names[0:5278]]\n",
    "    labels_valid = train_labels[seq_names[5278:5534]]\n",
    "    #mask_train = mask[seq_names[0:5278]]\n",
    "    #mask_valid = mask[seq_names[5278:5534]]\n",
    "    num_seq_train = cullpdb_data_train.shape[0]\n",
    "    num_seq_valid = cullpdb_data_valid.shape[0]\n",
    "\n",
    "    return cullpdb_data_train, cullpdb_data_valid, labels_train, labels_valid, num_seq_train"
   ]
  },
  {
   "cell_type": "code",
   "execution_count": 37,
   "metadata": {},
   "outputs": [
    {
     "name": "stdout",
     "output_type": "stream",
     "text": [
      "5534\n",
      "700\n",
      "8\n",
      "<function size at 0x7fb7fde949d8>\n",
      "\n",
      "\n"
     ]
    }
   ],
   "source": [
    "X_train, X_valid, train_labels, valid_labels, num_seq_train = load_cullpdb_6133_dataset()"
   ]
  },
  {
   "cell_type": "code",
   "execution_count": 41,
   "metadata": {},
   "outputs": [
    {
     "data": {
      "text/plain": [
       "(5278, 700, 57)"
      ]
     },
     "execution_count": 41,
     "metadata": {},
     "output_type": "execute_result"
    }
   ],
   "source": [
    "X_train.shape"
   ]
  },
  {
   "cell_type": "code",
   "execution_count": 43,
   "metadata": {},
   "outputs": [
    {
     "data": {
      "text/plain": [
       "(256, 700, 57)"
      ]
     },
     "execution_count": 43,
     "metadata": {},
     "output_type": "execute_result"
    }
   ],
   "source": [
    "X_valid.shape"
   ]
  },
  {
   "cell_type": "code",
   "execution_count": 45,
   "metadata": {},
   "outputs": [
    {
     "data": {
      "text/plain": [
       "(5278, 700)"
      ]
     },
     "execution_count": 45,
     "metadata": {},
     "output_type": "execute_result"
    }
   ],
   "source": [
    "train_labels.shape"
   ]
  },
  {
   "cell_type": "code",
   "execution_count": 46,
   "metadata": {},
   "outputs": [
    {
     "data": {
      "text/plain": [
       "(256, 700)"
      ]
     },
     "execution_count": 46,
     "metadata": {},
     "output_type": "execute_result"
    }
   ],
   "source": [
    "valid_labels.shape"
   ]
  },
  {
   "cell_type": "code",
   "execution_count": 57,
   "metadata": {},
   "outputs": [],
   "source": [
    "def load_casp10_data():\n",
    "    \n",
    "    #load casp10 dataset\n",
    "    casp10_data = h5py.File(\"casp10.h5\")\n",
    "    \n",
    "    #load protein sequence and profile feature data\n",
    "    casp10_data_hot = casp10_data['features'][:, :, 0:21]\n",
    "    casp10_data_pssm = casp10_data['features'][:, :, 21:42]\n",
    "    #load protein label data\n",
    "    test_labels = casp10_data['labels'][:, :, 0:8]  \n",
    "    \n",
    "    #create new protein sequence feature, set values to max value if if value!=0 ? \n",
    "    casp10_data_test_hot = np.ones((casp10_data_hot.shape[0], casp10_data_hot.shape[1]))\n",
    "    for x in range(casp10_data_hot.shape[0]):\n",
    "        for y in range(casp10_data_hot.shape[1]):\n",
    "               if np.sum(casp10_data_hot[x,y,:]) != 0:\n",
    "                    casp10_data_test_hot[x,y] = np.argmax(casp10_data_hot[x,y,:])\n",
    "\n",
    "    return casp10_data_test_hot, casp10_data_pssm, test_labels"
   ]
  },
  {
   "cell_type": "code",
   "execution_count": 58,
   "metadata": {},
   "outputs": [
    {
     "name": "stderr",
     "output_type": "stream",
     "text": [
      "/Users/adammckenna/anaconda3/lib/python3.7/site-packages/ipykernel_launcher.py:4: H5pyDeprecationWarning: The default file mode will change to 'r' (read-only) in h5py 3.0. To suppress this warning, pass the mode you need to h5py.File(), or set the global default h5.get_config().default_file_mode, or set the environment variable H5PY_DEFAULT_READONLY=1. Available modes are: 'r', 'r+', 'w', 'w-'/'x', 'a'. See the docs for details.\n",
      "  after removing the cwd from sys.path.\n"
     ]
    }
   ],
   "source": [
    "casp10_data_test_hot, casp10_data_pssm, test_labels = load_casp10_data()"
   ]
  },
  {
   "cell_type": "code",
   "execution_count": 59,
   "metadata": {},
   "outputs": [
    {
     "data": {
      "text/plain": [
       "(123, 700)"
      ]
     },
     "execution_count": 59,
     "metadata": {},
     "output_type": "execute_result"
    }
   ],
   "source": [
    "casp10_data_test_hot.shape"
   ]
  },
  {
   "cell_type": "code",
   "execution_count": 60,
   "metadata": {},
   "outputs": [
    {
     "data": {
      "text/plain": [
       "(123, 700, 21)"
      ]
     },
     "execution_count": 60,
     "metadata": {},
     "output_type": "execute_result"
    }
   ],
   "source": [
    "casp10_data_pssm.shape"
   ]
  },
  {
   "cell_type": "code",
   "execution_count": 61,
   "metadata": {},
   "outputs": [
    {
     "data": {
      "text/plain": [
       "(123, 700, 8)"
      ]
     },
     "execution_count": 61,
     "metadata": {},
     "output_type": "execute_result"
    }
   ],
   "source": [
    "test_labels.shape"
   ]
  },
  {
   "cell_type": "code",
   "execution_count": 63,
   "metadata": {},
   "outputs": [],
   "source": [
    "def load_casp11_data():\n",
    "    \n",
    "    #load casp11 dataset\n",
    "    casp11_data = h5py.File(\"casp11.h5\")\n",
    "    \n",
    "    #load protein sequence and profile feature data\n",
    "    casp11_data_hot = casp11_data['features'][:,:,0:21]\n",
    "    casp11_data_pssm = casp11_data['features'][:,:,21:42]\n",
    "    #load protein label data\n",
    "    test_labels = casp11_data['labels'][:,:,0:8]\n",
    "    \n",
    "    #create new protein sequence feature, set values to max value if if value!=0 ? \n",
    "    casp11_data_test_hot = np.ones((casp11_data_hot.shape[0], casp11_data_hot.shape[1]))\n",
    "    for x in range(casp11_data_hot.shape[0]):\n",
    "        for y in range(casp11_data_hot.shape[1]):\n",
    "            if np.sum(casp11_data_hot[x,y,:]) != 0:\n",
    "                casp11_data_test_hot[x,y] = np.argmax(casp11_data_hot[x,y,:])\n",
    "                \n",
    "    return casp11_data_test_hot, casp11_data_test_hot, test_labels"
   ]
  },
  {
   "cell_type": "code",
   "execution_count": 64,
   "metadata": {},
   "outputs": [
    {
     "name": "stderr",
     "output_type": "stream",
     "text": [
      "/Users/adammckenna/anaconda3/lib/python3.7/site-packages/ipykernel_launcher.py:4: H5pyDeprecationWarning: The default file mode will change to 'r' (read-only) in h5py 3.0. To suppress this warning, pass the mode you need to h5py.File(), or set the global default h5.get_config().default_file_mode, or set the environment variable H5PY_DEFAULT_READONLY=1. Available modes are: 'r', 'r+', 'w', 'w-'/'x', 'a'. See the docs for details.\n",
      "  after removing the cwd from sys.path.\n"
     ]
    }
   ],
   "source": [
    "casp11_data_test_hot, casp11_data_test_hot, test_labels = load_casp11_data()"
   ]
  },
  {
   "cell_type": "code",
   "execution_count": 65,
   "metadata": {},
   "outputs": [
    {
     "data": {
      "text/plain": [
       "(105, 700)"
      ]
     },
     "execution_count": 65,
     "metadata": {},
     "output_type": "execute_result"
    }
   ],
   "source": [
    "casp11_data_test_hot.shape"
   ]
  },
  {
   "cell_type": "code",
   "execution_count": 66,
   "metadata": {},
   "outputs": [
    {
     "data": {
      "text/plain": [
       "(105, 700)"
      ]
     },
     "execution_count": 66,
     "metadata": {},
     "output_type": "execute_result"
    }
   ],
   "source": [
    "casp11_data_test_hot.shape"
   ]
  },
  {
   "cell_type": "code",
   "execution_count": 67,
   "metadata": {},
   "outputs": [
    {
     "data": {
      "text/plain": [
       "(105, 700, 8)"
      ]
     },
     "execution_count": 67,
     "metadata": {},
     "output_type": "execute_result"
    }
   ],
   "source": [
    "test_labels.shape"
   ]
  },
  {
   "cell_type": "code",
   "execution_count": null,
   "metadata": {},
   "outputs": [],
   "source": []
  }
 ],
 "metadata": {
  "kernelspec": {
   "display_name": "Python 3",
   "language": "python",
   "name": "python3"
  },
  "language_info": {
   "codemirror_mode": {
    "name": "ipython",
    "version": 3
   },
   "file_extension": ".py",
   "mimetype": "text/x-python",
   "name": "python",
   "nbconvert_exporter": "python",
   "pygments_lexer": "ipython3",
   "version": "3.7.3"
  }
 },
 "nbformat": 4,
 "nbformat_minor": 2
}
