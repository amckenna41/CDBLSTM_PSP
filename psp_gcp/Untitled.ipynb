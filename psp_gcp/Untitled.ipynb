{
 "cells": [
  {
   "cell_type": "code",
   "execution_count": 2,
   "metadata": {},
   "outputs": [],
   "source": [
    "#Loading training and test datasets\n",
    "\n",
    "#importing libraries and dependancies\n",
    "import numpy as np\n",
    "import gzip\n",
    "import h5py\n",
    "import os\n",
    "\n",
    "\n",
    "#File paths for train and test datasets in data dir\n",
    "TRAIN_PATH = 'cullpdb+profile_6133_filtered.npy'\n",
    "TEST_PATH = 'cb513+profile_split1.npy'\n",
    "CASP10_PATH = 'casp10.h5'\n",
    "CASP11_PATH = 'casp11.h5'\n",
    "\n",
    "\n",
    "#load filtered cullpdb training data, all_data - proportion of data to load in, default is 1 which is whole dataset\n",
    "def load_cul6133_filted(all_data=1):\n",
    "\n",
    "    print(\"Loading training dataset (Cullpdb_filtered)...\\n\")\n",
    "\n",
    "    #load dataset\n",
    "    data = np.load(TRAIN_PATH)\n",
    "    #reshape dataset\n",
    "    data = np.reshape(data, (-1, 700, 57))\n",
    "    #sequence feature\n",
    "    datahot = data[:, :, 0:21]\n",
    "    #profile features\n",
    "    datapssm = data[:, :, 35:56]\n",
    "    #secondary struture labels\n",
    "    labels = data[:, :, 22:30]\n",
    "    #np.random.seed(2018)\n",
    "\n",
    "    # shuffle data\n",
    "    num_seqs, seqlen, feature_dim = np.shape(data)\n",
    "    num_classes = labels.shape[2]\n",
    "    seq_index = np.arange(0, num_seqs)#\n",
    "    np.random.shuffle(seq_index)\n",
    "\n",
    "    #calculate the indexes for each dimension based on all_data input parameter\n",
    "    data_index = int(5278 * all_data)\n",
    "    val_data_index =  int(256 * all_data)\n",
    "    val_data_upper = data_index + val_data_index\n",
    "\n",
    "    #get training data\n",
    "    trainhot = datahot[seq_index[:data_index]]\n",
    "    trainlabel = labels[seq_index[:data_index]]\n",
    "    trainpssm = datapssm[seq_index[:data_index]]\n",
    "\n",
    "    #get validation data\n",
    "    vallabel = labels[seq_index[data_index:val_data_upper]] #8\n",
    "    valpssm = datapssm[seq_index[data_index:val_data_upper]] # 21\n",
    "    valhot = datahot[seq_index[data_index:val_data_upper]] #21\n",
    "\n",
    "\n",
    "    train_hot = np.ones((trainhot.shape[0], trainhot.shape[1]))\n",
    "    for i in range(trainhot.shape[0]):\n",
    "        for j in range(trainhot.shape[1]):\n",
    "            if np.sum(trainhot[i,j,:]) != 0:\n",
    "                train_hot[i,j] = np.argmax(trainhot[i,j,:])\n",
    "\n",
    "\n",
    "    val_hot = np.ones((valhot.shape[0], valhot.shape[1]))\n",
    "    for i in range(valhot.shape[0]):\n",
    "        for j in range(valhot.shape[1]):\n",
    "            if np.sum(valhot[i,j,:]) != 0:\n",
    "                val_hot[i,j] = np.argmax(valhot[i,j,:])\n",
    "\n",
    "    return train_hot,trainpssm,trainlabel, val_hot,valpssm,vallabel\n",
    "\n"
   ]
  },
  {
   "cell_type": "code",
   "execution_count": 3,
   "metadata": {},
   "outputs": [
    {
     "name": "stdout",
     "output_type": "stream",
     "text": [
      "Loading training dataset (Cullpdb_filtered)...\n",
      "\n"
     ]
    }
   ],
   "source": [
    "train_hot,trainpssm,trainlabel, val_hot,valpssm,vallabel = load_cul6133_filted()"
   ]
  },
  {
   "cell_type": "code",
   "execution_count": null,
   "metadata": {},
   "outputs": [],
   "source": [
    "def get_data_labels(D):\n",
    "    X = D[:, :, 0:amino_acid_residues]\n",
    "    Y = D[:, :, amino_acid_residues:amino_acid_residues + num_classes]\n",
    "    return X, Y"
   ]
  },
  {
   "cell_type": "code",
   "execution_count": null,
   "metadata": {},
   "outputs": [],
   "source": [
    "D_train, D_test, D_val = split_with_shuffle(dataset, 100)\n",
    "\n",
    "X_train, Y_train = get_data_labels(D_train)"
   ]
  },
  {
   "cell_type": "code",
   "execution_count": null,
   "metadata": {},
   "outputs": [],
   "source": [
    "def Q8_accuracy(real, pred):\n",
    "    total = real.shape[0] * real.shape[1]\n",
    "    correct = 0\n",
    "    for i in range(real.shape[0]):  # per element in the batch\n",
    "        for j in range(real.shape[1]): # per aminoacid residue\n",
    "            if np.sum(real[i, j, :]) == 0:  #  real[i, j, dataset.num_classes - 1] > 0 # if it is padding\n",
    "                total = total - 1\n",
    "            else:\n",
    "                if real[i, j, np.argmax(pred[i, j, :])] > 0:\n",
    "                    correct = correct + 1\n",
    "\n",
    "    return correct / total\n",
    "\n",
    "net.load_weights(\"Whole_CullPDB-best.hdf5\")\n",
    "\n",
    "predictions = net.predict(X_test)\n",
    "\n",
    "print(\"\\n\\nQ8 accuracy: \" + str(model.Q8_accuracy(Y_test, predictions)) + \"\\n\\n\")\n",
    "\n"
   ]
  }
 ],
 "metadata": {
  "kernelspec": {
   "display_name": "Python 3",
   "language": "python",
   "name": "python3"
  },
  "language_info": {
   "codemirror_mode": {
    "name": "ipython",
    "version": 3
   },
   "file_extension": ".py",
   "mimetype": "text/x-python",
   "name": "python",
   "nbconvert_exporter": "python",
   "pygments_lexer": "ipython3",
   "version": "3.7.3"
  }
 },
 "nbformat": 4,
 "nbformat_minor": 4
}
